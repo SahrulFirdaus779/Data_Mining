{
 "cells": [
  {
   "cell_type": "code",
   "execution_count": 1,
   "metadata": {},
   "outputs": [
    {
     "data": {
      "text/html": [
       "<div>\n",
       "<style scoped>\n",
       "    .dataframe tbody tr th:only-of-type {\n",
       "        vertical-align: middle;\n",
       "    }\n",
       "\n",
       "    .dataframe tbody tr th {\n",
       "        vertical-align: top;\n",
       "    }\n",
       "\n",
       "    .dataframe thead th {\n",
       "        text-align: right;\n",
       "    }\n",
       "</style>\n",
       "<table border=\"1\" class=\"dataframe\">\n",
       "  <thead>\n",
       "    <tr style=\"text-align: right;\">\n",
       "      <th></th>\n",
       "      <th>Gender</th>\n",
       "      <th>Height</th>\n",
       "      <th>Weight</th>\n",
       "      <th>Index</th>\n",
       "    </tr>\n",
       "  </thead>\n",
       "  <tbody>\n",
       "    <tr>\n",
       "      <th>0</th>\n",
       "      <td>Male</td>\n",
       "      <td>174</td>\n",
       "      <td>96</td>\n",
       "      <td>4</td>\n",
       "    </tr>\n",
       "    <tr>\n",
       "      <th>1</th>\n",
       "      <td>Male</td>\n",
       "      <td>189</td>\n",
       "      <td>87</td>\n",
       "      <td>2</td>\n",
       "    </tr>\n",
       "    <tr>\n",
       "      <th>2</th>\n",
       "      <td>Female</td>\n",
       "      <td>185</td>\n",
       "      <td>110</td>\n",
       "      <td>4</td>\n",
       "    </tr>\n",
       "    <tr>\n",
       "      <th>3</th>\n",
       "      <td>Female</td>\n",
       "      <td>195</td>\n",
       "      <td>104</td>\n",
       "      <td>3</td>\n",
       "    </tr>\n",
       "    <tr>\n",
       "      <th>4</th>\n",
       "      <td>Male</td>\n",
       "      <td>149</td>\n",
       "      <td>61</td>\n",
       "      <td>3</td>\n",
       "    </tr>\n",
       "    <tr>\n",
       "      <th>...</th>\n",
       "      <td>...</td>\n",
       "      <td>...</td>\n",
       "      <td>...</td>\n",
       "      <td>...</td>\n",
       "    </tr>\n",
       "    <tr>\n",
       "      <th>495</th>\n",
       "      <td>Female</td>\n",
       "      <td>150</td>\n",
       "      <td>153</td>\n",
       "      <td>5</td>\n",
       "    </tr>\n",
       "    <tr>\n",
       "      <th>496</th>\n",
       "      <td>Female</td>\n",
       "      <td>184</td>\n",
       "      <td>121</td>\n",
       "      <td>4</td>\n",
       "    </tr>\n",
       "    <tr>\n",
       "      <th>497</th>\n",
       "      <td>Female</td>\n",
       "      <td>141</td>\n",
       "      <td>136</td>\n",
       "      <td>5</td>\n",
       "    </tr>\n",
       "    <tr>\n",
       "      <th>498</th>\n",
       "      <td>Male</td>\n",
       "      <td>150</td>\n",
       "      <td>95</td>\n",
       "      <td>5</td>\n",
       "    </tr>\n",
       "    <tr>\n",
       "      <th>499</th>\n",
       "      <td>Male</td>\n",
       "      <td>173</td>\n",
       "      <td>131</td>\n",
       "      <td>5</td>\n",
       "    </tr>\n",
       "  </tbody>\n",
       "</table>\n",
       "<p>500 rows × 4 columns</p>\n",
       "</div>"
      ],
      "text/plain": [
       "     Gender  Height  Weight Index\n",
       "0      Male     174      96     4\n",
       "1      Male     189      87     2\n",
       "2    Female     185     110     4\n",
       "3    Female     195     104     3\n",
       "4      Male     149      61     3\n",
       "..      ...     ...     ...   ...\n",
       "495  Female     150     153     5\n",
       "496  Female     184     121     4\n",
       "497  Female     141     136     5\n",
       "498    Male     150      95     5\n",
       "499    Male     173     131     5\n",
       "\n",
       "[500 rows x 4 columns]"
      ]
     },
     "execution_count": 1,
     "metadata": {},
     "output_type": "execute_result"
    }
   ],
   "source": [
    "import pandas as pd  # Pandas untuk manipulasi data\n",
    "imported_df = pd.read_csv('500_Person_Gender_Height_Weight_Index.csv')\n",
    "imported_df"
   ]
  },
  {
   "cell_type": "code",
   "execution_count": 2,
   "metadata": {},
   "outputs": [
    {
     "name": "stdout",
     "output_type": "stream",
     "text": [
      "       Height                       Weight                     \n",
      "        count        mean  max  min  count        mean  max min\n",
      "Gender                                                         \n",
      "Female    255  170.227451  199  140    255  105.698039  160  50\n",
      "Male      245  169.648980  199  140    245  106.314286  160  50\n"
     ]
    }
   ],
   "source": [
    "# Hitung statistik deskriptif berdasarkan gender\n",
    "stats = imported_df.groupby('Gender')[['Height', 'Weight']].agg(['count', 'mean', 'max', 'min'])\n",
    "print(stats)\n"
   ]
  },
  {
   "cell_type": "code",
   "execution_count": 3,
   "metadata": {},
   "outputs": [
    {
     "name": "stdout",
     "output_type": "stream",
     "text": [
      "Jumlah Data Male:\n",
      "Height    245\n",
      "Weight    245\n",
      "dtype: int64\n"
     ]
    }
   ],
   "source": [
    "jumlah_data_male = imported_df[imported_df['Gender'] == 'Male'][['Height', 'Weight']].count()\n",
    "\n",
    "print(\"Jumlah Data Male:\")\n",
    "print(jumlah_data_male)\n"
   ]
  },
  {
   "cell_type": "code",
   "execution_count": 4,
   "metadata": {},
   "outputs": [
    {
     "name": "stdout",
     "output_type": "stream",
     "text": [
      "Jumlah Data Male:\n",
      "Height    245\n",
      "Weight    245\n",
      "dtype: int64\n"
     ]
    }
   ],
   "source": [
    "jumlah_data_male = imported_df[imported_df['Gender'] == 'Male'][['Height', 'Weight']].count()\n",
    "\n",
    "print(\"Jumlah Data Male:\")\n",
    "print(jumlah_data_male)"
   ]
  },
  {
   "cell_type": "code",
   "execution_count": 5,
   "metadata": {},
   "outputs": [
    {
     "name": "stdout",
     "output_type": "stream",
     "text": [
      "\n",
      "Jumlah Data Female:\n",
      "Height    255\n",
      "Weight    255\n",
      "dtype: int64\n"
     ]
    }
   ],
   "source": [
    "jumlah_data_female = imported_df[imported_df['Gender'] == 'Female'][['Height', 'Weight']].count()\n",
    "print(\"\\nJumlah Data Female:\")\n",
    "print(jumlah_data_female)"
   ]
  },
  {
   "cell_type": "code",
   "execution_count": 6,
   "metadata": {},
   "outputs": [
    {
     "name": "stdout",
     "output_type": "stream",
     "text": [
      "\n",
      "Rata-rata Male:\n",
      "Height    169.648980\n",
      "Weight    106.314286\n",
      "dtype: float64\n"
     ]
    }
   ],
   "source": [
    "mean_male = imported_df[imported_df['Gender'] == 'Male'][['Height', 'Weight']].mean()\n",
    "\n",
    "\n",
    "print(\"\\nRata-rata Male:\")\n",
    "print(mean_male)\n",
    "\n"
   ]
  },
  {
   "cell_type": "code",
   "execution_count": 7,
   "metadata": {},
   "outputs": [
    {
     "name": "stdout",
     "output_type": "stream",
     "text": [
      "\n",
      "Rata-rata Female:\n",
      "Height    170.227451\n",
      "Weight    105.698039\n",
      "dtype: float64\n"
     ]
    }
   ],
   "source": [
    "mean_female = imported_df[imported_df['Gender'] == 'Female'][['Height', 'Weight']].mean()\n",
    "print(\"\\nRata-rata Female:\")\n",
    "print(mean_female)"
   ]
  },
  {
   "cell_type": "code",
   "execution_count": 8,
   "metadata": {},
   "outputs": [
    {
     "name": "stdout",
     "output_type": "stream",
     "text": [
      "\n",
      "Nilai Maksimum Male:\n",
      "Height    199\n",
      "Weight    160\n",
      "dtype: int64\n"
     ]
    }
   ],
   "source": [
    "# Menghitung nilai maksimum untuk masing-masing gender\n",
    "nilai_maksimum_male = imported_df[imported_df['Gender'] == 'Male'][['Height', 'Weight']].max()\n",
    "print(\"\\nNilai Maksimum Male:\")\n",
    "print(nilai_maksimum_male)\n",
    "\n"
   ]
  },
  {
   "cell_type": "code",
   "execution_count": 9,
   "metadata": {},
   "outputs": [
    {
     "name": "stdout",
     "output_type": "stream",
     "text": [
      "\n",
      "Nilai Maksimum Female:\n",
      "Height    199\n",
      "Weight    160\n",
      "dtype: int64\n"
     ]
    }
   ],
   "source": [
    "nilai_maksimum_female = imported_df[imported_df['Gender'] == 'Female'][['Height', 'Weight']].max()\n",
    "print(\"\\nNilai Maksimum Female:\")\n",
    "print(nilai_maksimum_female)"
   ]
  },
  {
   "cell_type": "code",
   "execution_count": 10,
   "metadata": {},
   "outputs": [
    {
     "name": "stdout",
     "output_type": "stream",
     "text": [
      "\n",
      "Nilai Minimum Male:\n",
      "Height    140\n",
      "Weight     50\n",
      "dtype: int64\n"
     ]
    }
   ],
   "source": [
    "# Menghitung nilai minimum untuk masing-masing gender\n",
    "nilai_minimum_male = imported_df[imported_df['Gender'] == 'Male'][['Height', 'Weight']].min()\n",
    "print(\"\\nNilai Minimum Male:\")\n",
    "print(nilai_minimum_male)\n",
    "\n"
   ]
  },
  {
   "cell_type": "code",
   "execution_count": 11,
   "metadata": {},
   "outputs": [
    {
     "name": "stdout",
     "output_type": "stream",
     "text": [
      "\n",
      "Nilai Minimum Female:\n",
      "Height    140\n",
      "Weight     50\n",
      "dtype: int64\n"
     ]
    }
   ],
   "source": [
    "nilai_minimum_female = imported_df[imported_df['Gender'] == 'Female'][['Height', 'Weight']].min()\n",
    "print(\"\\nNilai Minimum Female:\")\n",
    "print(nilai_minimum_female)"
   ]
  },
  {
   "cell_type": "code",
   "execution_count": 12,
   "metadata": {},
   "outputs": [
    {
     "name": "stdout",
     "output_type": "stream",
     "text": [
      "     Gender  Height  Weight Index\n",
      "0         1     174      96     4\n",
      "1         1     189      87     2\n",
      "2         0     185     110     4\n",
      "3         0     195     104     3\n",
      "4         1     149      61     3\n",
      "..      ...     ...     ...   ...\n",
      "495       0     150     153     5\n",
      "496       0     184     121     4\n",
      "497       0     141     136     5\n",
      "498       1     150      95     5\n",
      "499       1     173     131     5\n",
      "\n",
      "[500 rows x 4 columns]\n"
     ]
    }
   ],
   "source": [
    "# Mengubah kolom Gender menjadi biner\n",
    "imported_df['Gender'] = imported_df['Gender'].map({'Female': 0, 'Male': 1})\n",
    "\n",
    "# Menampilkan DataFrame setelah perubahan\n",
    "print(imported_df)\n"
   ]
  },
  {
   "cell_type": "code",
   "execution_count": 13,
   "metadata": {},
   "outputs": [
    {
     "data": {
      "image/png": "[encoded data removed]",
      "text/plain": [
       "<Figure size 800x400 with 1 Axes>"
      ]
     },
     "metadata": {},
     "output_type": "display_data"
    }
   ],
   "source": [
    "import matplotlib.pyplot as plt\n",
    "import seaborn as sns\n",
    "\n",
    "# Visualisasi Indeks BMI berdasarkan Gender\n",
    "plt.figure(figsize=(8, 4))  # Mengatur ukuran grafik\n",
    "ax = sns.countplot(x='Index', hue='Gender', data=imported_df)\n",
    "\n",
    "# Menambahkan judul dan label\n",
    "plt.title('Distribusi Indeks BMI berdasarkan Gender')\n",
    "plt.xlabel('Indeks BMI')\n",
    "plt.ylabel('Jumlah')\n",
    "\n",
    "# Menambahkan penjelasan kategori BMI\n",
    "plt.xticks(ticks=[0, 1, 2, 3, 4, 5],\n",
    "           labels=['Extremely\\nWeak\\n(0)', 'Weak\\n(1)', 'Normal\\n(2)', 'Overweight\\n(3)', 'Obesity\\n(4)', 'Extreme\\nObesity\\n(5)'])\n",
    "\n",
    "# Menambahkan jumlah ke setiap batang\n",
    "for p in ax.patches:  # Menggunakan ax.patches untuk mendapatkan batang\n",
    "    ax.annotate(f'{int(p.get_height())}', \n",
    "                (p.get_x() + p.get_width() / 2., p.get_height()), \n",
    "                ha='center', va='bottom')\n",
    "\n",
    "# Menampilkan grafik\n",
    "plt.show()\n"
   ]
  }
 ],
 "metadata": {
  "kernelspec": {
   "display_name": "myenv",
   "language": "python",
   "name": "python3"
  },
  "language_info": {
   "codemirror_mode": {
    "name": "ipython",
    "version": 3
   },
   "file_extension": ".py",
   "mimetype": "text/x-python",
   "name": "python",
   "nbconvert_exporter": "python",
   "pygments_lexer": "ipython3",
   "version": "3.10.13"
  }
 },
 "nbformat": 4,
 "nbformat_minor": 2
}
