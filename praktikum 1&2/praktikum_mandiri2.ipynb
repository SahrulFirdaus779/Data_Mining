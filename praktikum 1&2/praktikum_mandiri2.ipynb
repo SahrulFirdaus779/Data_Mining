{
 "cells": [
  {
   "cell_type": "code",
   "execution_count": 1,
   "metadata": {},
   "outputs": [],
   "source": [
    "import pandas as pd\n",
    "import pandas as np\n",
    "import matplotlib.pyplot as plt\n",
    "#import data\n",
    "df = pd.read_csv('weight-height.csv')"
   ]
  },
  {
   "cell_type": "code",
   "execution_count": 2,
   "metadata": {},
   "outputs": [
    {
     "name": "stdout",
     "output_type": "stream",
     "text": [
      "<class 'pandas.core.frame.DataFrame'>\n",
      "RangeIndex: 10000 entries, 0 to 9999\n",
      "Data columns (total 3 columns):\n",
      " #   Column  Non-Null Count  Dtype  \n",
      "---  ------  --------------  -----  \n",
      " 0   Gender  10000 non-null  object \n",
      " 1   Height  10000 non-null  float64\n",
      " 2   Weight  10000 non-null  float64\n",
      "dtypes: float64(2), object(1)\n",
      "memory usage: 234.5+ KB\n"
     ]
    }
   ],
   "source": [
    "df.info()"
   ]
  },
  {
   "cell_type": "code",
   "execution_count": 3,
   "metadata": {},
   "outputs": [
    {
     "data": {
      "text/plain": [
       "66.36755975482124"
      ]
     },
     "execution_count": 3,
     "metadata": {},
     "output_type": "execute_result"
    }
   ],
   "source": [
    "df['Height'].mean() #liat nilai rata rata"
   ]
  },
  {
   "cell_type": "code",
   "execution_count": 4,
   "metadata": {},
   "outputs": [
    {
     "data": {
      "text/plain": [
       "66.31807008178464"
      ]
     },
     "execution_count": 4,
     "metadata": {},
     "output_type": "execute_result"
    }
   ],
   "source": [
    "df['Height'].median()"
   ]
  },
  {
   "cell_type": "code",
   "execution_count": 5,
   "metadata": {},
   "outputs": [
    {
     "data": {
      "text/plain": [
       "0       54.263133\n",
       "1       54.616858\n",
       "2       54.873728\n",
       "3       55.148557\n",
       "4       55.336492\n",
       "          ...    \n",
       "9995    78.095867\n",
       "9996    78.462053\n",
       "9997    78.528210\n",
       "9998    78.621374\n",
       "9999    78.998742\n",
       "Name: Height, Length: 10000, dtype: float64"
      ]
     },
     "execution_count": 5,
     "metadata": {},
     "output_type": "execute_result"
    }
   ],
   "source": [
    "df['Height'].mode()"
   ]
  },
  {
   "cell_type": "code",
   "execution_count": 6,
   "metadata": {},
   "outputs": [
    {
     "name": "stdout",
     "output_type": "stream",
     "text": [
      "Q1 :  63.505620481218955\n",
      "Q3 :  69.1742617268347\n",
      "IQR:  5.668641245615746\n"
     ]
    }
   ],
   "source": [
    "#ngitung kuartil pertama (Q1)\n",
    "q1= df['Height'].quantile(0.25)\n",
    "print(\"Q1 : \" ,q1)\n",
    "#ngitung kuartil ketiga (Q3)\n",
    "q3= df['Height'].quantile(0.75)\n",
    "print(\"Q3 : \" , q3)\n",
    "#inter quartil range\n",
    "iqr= q3-q1\n",
    "print(\"IQR: \", iqr)\n"
   ]
  },
  {
   "cell_type": "code",
   "execution_count": 7,
   "metadata": {},
   "outputs": [
    {
     "name": "stdout",
     "output_type": "stream",
     "text": [
      "Q1 :  63.505620481218955\n",
      "Q3 :  69.1742617268347\n",
      "IQR:  5.668641245615746\n"
     ]
    }
   ],
   "source": [
    "#ngitung kuartil pertama (Q1)\n",
    "q1= df['Height'].quantile(0.25)\n",
    "print(\"Q1 : \" ,q1)\n",
    "#ngitung kuartil ketiga (Q3)\n",
    "q3= df['Height'].quantile(0.75)\n",
    "print(\"Q3 : \" , q3)\n",
    "#inter quartil range\n",
    "iqr= q3-q1\n",
    "print(\"IQR: \", iqr)\n"
   ]
  },
  {
   "cell_type": "code",
   "execution_count": 8,
   "metadata": {},
   "outputs": [
    {
     "data": {
      "text/plain": [
       "<Axes: >"
      ]
     },
     "execution_count": 8,
     "metadata": {},
     "output_type": "execute_result"
    },
    {
     "data": {
      "image/png": "[encoded data removed]",
      "text/plain": [
       "<Figure size 640x480 with 1 Axes>"
      ]
     },
     "metadata": {},
     "output_type": "display_data"
    }
   ],
   "source": [
    "#buat boxplot\n",
    "df.boxplot(column=['Height','Weight'])"
   ]
  },
  {
   "cell_type": "code",
   "execution_count": 9,
   "metadata": {},
   "outputs": [
    {
     "data": {
      "text/html": [
       "<div>\n",
       "<style scoped>\n",
       "    .dataframe tbody tr th:only-of-type {\n",
       "        vertical-align: middle;\n",
       "    }\n",
       "\n",
       "    .dataframe tbody tr th {\n",
       "        vertical-align: top;\n",
       "    }\n",
       "\n",
       "    .dataframe thead th {\n",
       "        text-align: right;\n",
       "    }\n",
       "</style>\n",
       "<table border=\"1\" class=\"dataframe\">\n",
       "  <thead>\n",
       "    <tr style=\"text-align: right;\">\n",
       "      <th></th>\n",
       "      <th>Gender</th>\n",
       "      <th>Height</th>\n",
       "      <th>Weight</th>\n",
       "      <th>index</th>\n",
       "    </tr>\n",
       "  </thead>\n",
       "  <tbody>\n",
       "    <tr>\n",
       "      <th>0</th>\n",
       "      <td>Male</td>\n",
       "      <td>73.847017</td>\n",
       "      <td>241.893563</td>\n",
       "      <td>NaN</td>\n",
       "    </tr>\n",
       "    <tr>\n",
       "      <th>1</th>\n",
       "      <td>Male</td>\n",
       "      <td>68.781904</td>\n",
       "      <td>162.310473</td>\n",
       "      <td>NaN</td>\n",
       "    </tr>\n",
       "    <tr>\n",
       "      <th>2</th>\n",
       "      <td>Male</td>\n",
       "      <td>74.110105</td>\n",
       "      <td>212.740856</td>\n",
       "      <td>NaN</td>\n",
       "    </tr>\n",
       "    <tr>\n",
       "      <th>3</th>\n",
       "      <td>Male</td>\n",
       "      <td>71.730978</td>\n",
       "      <td>220.042470</td>\n",
       "      <td>NaN</td>\n",
       "    </tr>\n",
       "    <tr>\n",
       "      <th>4</th>\n",
       "      <td>Male</td>\n",
       "      <td>69.881796</td>\n",
       "      <td>206.349801</td>\n",
       "      <td>NaN</td>\n",
       "    </tr>\n",
       "    <tr>\n",
       "      <th>...</th>\n",
       "      <td>...</td>\n",
       "      <td>...</td>\n",
       "      <td>...</td>\n",
       "      <td>...</td>\n",
       "    </tr>\n",
       "    <tr>\n",
       "      <th>9999</th>\n",
       "      <td>Female</td>\n",
       "      <td>61.944246</td>\n",
       "      <td>113.649103</td>\n",
       "      <td>NaN</td>\n",
       "    </tr>\n",
       "    <tr>\n",
       "      <th>10000</th>\n",
       "      <td>male</td>\n",
       "      <td>51.000000</td>\n",
       "      <td>33.000000</td>\n",
       "      <td>1.0</td>\n",
       "    </tr>\n",
       "    <tr>\n",
       "      <th>10001</th>\n",
       "      <td>Female</td>\n",
       "      <td>155.000000</td>\n",
       "      <td>320.000000</td>\n",
       "      <td>5.0</td>\n",
       "    </tr>\n",
       "    <tr>\n",
       "      <th>10002</th>\n",
       "      <td>male</td>\n",
       "      <td>45.000000</td>\n",
       "      <td>30.000000</td>\n",
       "      <td>2.0</td>\n",
       "    </tr>\n",
       "    <tr>\n",
       "      <th>10003</th>\n",
       "      <td>Female</td>\n",
       "      <td>160.000000</td>\n",
       "      <td>335.000000</td>\n",
       "      <td>5.0</td>\n",
       "    </tr>\n",
       "  </tbody>\n",
       "</table>\n",
       "<p>10004 rows × 4 columns</p>\n",
       "</div>"
      ],
      "text/plain": [
       "       Gender      Height      Weight  index\n",
       "0        Male   73.847017  241.893563    NaN\n",
       "1        Male   68.781904  162.310473    NaN\n",
       "2        Male   74.110105  212.740856    NaN\n",
       "3        Male   71.730978  220.042470    NaN\n",
       "4        Male   69.881796  206.349801    NaN\n",
       "...       ...         ...         ...    ...\n",
       "9999   Female   61.944246  113.649103    NaN\n",
       "10000    male   51.000000   33.000000    1.0\n",
       "10001  Female  155.000000  320.000000    5.0\n",
       "10002    male   45.000000   30.000000    2.0\n",
       "10003  Female  160.000000  335.000000    5.0\n",
       "\n",
       "[10004 rows x 4 columns]"
      ]
     },
     "execution_count": 9,
     "metadata": {},
     "output_type": "execute_result"
    }
   ],
   "source": [
    "#Nambahin Outlier\n",
    "outlier_data={\n",
    "    'Gender':[\"male\",\"Female\",\"male\",\"Female\"],\n",
    "    'Height':[51,155,45,160],\n",
    "    'Weight':[33,320,30,335],\n",
    "    'index':[1,5,2,5]\n",
    "}\n",
    "\n",
    "outlier_df= pd.DataFrame(outlier_data)\n",
    "\n",
    "df = pd.concat([df,outlier_df], ignore_index= True)\n",
    "df\n",
    "\n"
   ]
  },
  {
   "cell_type": "code",
   "execution_count": 10,
   "metadata": {},
   "outputs": [
    {
     "data": {
      "text/plain": [
       "<bound method NDFrame.describe of        Gender      Height      Weight  index\n",
       "0        Male   73.847017  241.893563    NaN\n",
       "1        Male   68.781904  162.310473    NaN\n",
       "2        Male   74.110105  212.740856    NaN\n",
       "3        Male   71.730978  220.042470    NaN\n",
       "4        Male   69.881796  206.349801    NaN\n",
       "...       ...         ...         ...    ...\n",
       "9999   Female   61.944246  113.649103    NaN\n",
       "10000    male   51.000000   33.000000    1.0\n",
       "10001  Female  155.000000  320.000000    5.0\n",
       "10002    male   45.000000   30.000000    2.0\n",
       "10003  Female  160.000000  335.000000    5.0\n",
       "\n",
       "[10004 rows x 4 columns]>"
      ]
     },
     "execution_count": 10,
     "metadata": {},
     "output_type": "execute_result"
    }
   ],
   "source": [
    "df.describe"
   ]
  },
  {
   "cell_type": "code",
   "execution_count": 11,
   "metadata": {},
   "outputs": [
    {
     "data": {
      "image/png": "[encoded data removed]",
      "text/plain": [
       "<Figure size 640x480 with 1 Axes>"
      ]
     },
     "metadata": {},
     "output_type": "display_data"
    }
   ],
   "source": [
    "#buat boxplot\n",
    "df.boxplot(column=['Height','Weight'])\n",
    "plt.title('Boxpot Hight and Weight with Outlier')\n",
    "plt.show()"
   ]
  },
  {
   "cell_type": "code",
   "execution_count": 12,
   "metadata": {},
   "outputs": [
    {
     "name": "stdout",
     "output_type": "stream",
     "text": [
      "Q1 :  63.50477262025402\n",
      "Q3 :  69.17720151692626\n",
      "Outlier Height: \n",
      "       Gender      Height      Weight  index\n",
      "994      Male   78.095867  255.690835    NaN\n",
      "1317     Male   78.462053  227.342565    NaN\n",
      "2014     Male   78.998742  269.989699    NaN\n",
      "3285     Male   78.528210  253.889004    NaN\n",
      "3757     Male   78.621374  245.733783    NaN\n",
      "6624   Female   54.616858   71.393749    NaN\n",
      "7294   Female   54.873728   78.606670    NaN\n",
      "9285   Female   54.263133   64.700127    NaN\n",
      "10000    male   51.000000   33.000000    1.0\n",
      "10001  Female  155.000000  320.000000    5.0\n",
      "10002    male   45.000000   30.000000    2.0\n",
      "10003  Female  160.000000  335.000000    5.0\n"
     ]
    }
   ],
   "source": [
    "#ngitung kuartil pertama (Q1)\n",
    "q1= df['Height'].quantile(0.25)\n",
    "print(\"Q1 : \" ,q1)\n",
    "#ngitung kuartil ketiga (Q3)\n",
    "q3= df['Height'].quantile(0.75)\n",
    "print(\"Q3 : \" , q3)\n",
    "#inter quartil range\n",
    "iqr= q3-q1\n",
    "# Menghitung batas bawah(Lower Bound) dan batas atas(Upper Bound)untuk Outlier\n",
    "lower_bound= q1 - 1.5 * iqr\n",
    "upper_bound= q3 + 1.5 * iqr\n",
    "\n",
    "#Menemukan Outlier dalam DataFrame\n",
    "outliers= df[(df['Height'] < lower_bound) | (df['Height'] > upper_bound)]\n",
    "# disini cuma yang diliat kolom height aja blom yang lain\n",
    "print(\"Outlier Height: \")\n",
    "print(outliers)\n"
   ]
  },
  {
   "cell_type": "code",
   "execution_count": 13,
   "metadata": {},
   "outputs": [
    {
     "data": {
      "text/html": [
       "<div>\n",
       "<style scoped>\n",
       "    .dataframe tbody tr th:only-of-type {\n",
       "        vertical-align: middle;\n",
       "    }\n",
       "\n",
       "    .dataframe tbody tr th {\n",
       "        vertical-align: top;\n",
       "    }\n",
       "\n",
       "    .dataframe thead th {\n",
       "        text-align: right;\n",
       "    }\n",
       "</style>\n",
       "<table border=\"1\" class=\"dataframe\">\n",
       "  <thead>\n",
       "    <tr style=\"text-align: right;\">\n",
       "      <th></th>\n",
       "      <th>Height</th>\n",
       "      <th>Weight</th>\n",
       "      <th>index</th>\n",
       "    </tr>\n",
       "  </thead>\n",
       "  <tbody>\n",
       "    <tr>\n",
       "      <th>count</th>\n",
       "      <td>10004.000000</td>\n",
       "      <td>10004.000000</td>\n",
       "      <td>4.000000</td>\n",
       "    </tr>\n",
       "    <tr>\n",
       "      <th>mean</th>\n",
       "      <td>66.382107</td>\n",
       "      <td>161.447578</td>\n",
       "      <td>3.250000</td>\n",
       "    </tr>\n",
       "    <tr>\n",
       "      <th>std</th>\n",
       "      <td>4.065510</td>\n",
       "      <td>32.240357</td>\n",
       "      <td>2.061553</td>\n",
       "    </tr>\n",
       "    <tr>\n",
       "      <th>min</th>\n",
       "      <td>45.000000</td>\n",
       "      <td>30.000000</td>\n",
       "      <td>1.000000</td>\n",
       "    </tr>\n",
       "    <tr>\n",
       "      <th>25%</th>\n",
       "      <td>63.504773</td>\n",
       "      <td>135.812408</td>\n",
       "      <td>1.750000</td>\n",
       "    </tr>\n",
       "    <tr>\n",
       "      <th>50%</th>\n",
       "      <td>66.318070</td>\n",
       "      <td>161.212928</td>\n",
       "      <td>3.500000</td>\n",
       "    </tr>\n",
       "    <tr>\n",
       "      <th>75%</th>\n",
       "      <td>69.177202</td>\n",
       "      <td>187.188859</td>\n",
       "      <td>5.000000</td>\n",
       "    </tr>\n",
       "    <tr>\n",
       "      <th>max</th>\n",
       "      <td>160.000000</td>\n",
       "      <td>335.000000</td>\n",
       "      <td>5.000000</td>\n",
       "    </tr>\n",
       "  </tbody>\n",
       "</table>\n",
       "</div>"
      ],
      "text/plain": [
       "             Height        Weight     index\n",
       "count  10004.000000  10004.000000  4.000000\n",
       "mean      66.382107    161.447578  3.250000\n",
       "std        4.065510     32.240357  2.061553\n",
       "min       45.000000     30.000000  1.000000\n",
       "25%       63.504773    135.812408  1.750000\n",
       "50%       66.318070    161.212928  3.500000\n",
       "75%       69.177202    187.188859  5.000000\n",
       "max      160.000000    335.000000  5.000000"
      ]
     },
     "execution_count": 13,
     "metadata": {},
     "output_type": "execute_result"
    }
   ],
   "source": [
    "df.describe()"
   ]
  },
  {
   "cell_type": "code",
   "execution_count": 14,
   "metadata": {},
   "outputs": [
    {
     "data": {
      "image/png": "[encoded data removed]",
      "text/plain": [
       "<Figure size 640x480 with 1 Axes>"
      ]
     },
     "metadata": {},
     "output_type": "display_data"
    }
   ],
   "source": [
    "data_height = df['Height']\n",
    "# Buat Histogram\n",
    "n, bins, patches = plt.hist(data_height, bins=5, color='pink', edgecolor='black')\n",
    "\n",
    "# Tambahkan label\n",
    "plt.title('Histogram Nilai')\n",
    "plt.xlabel('Height')\n",
    "plt.ylabel('Frekuensi')\n",
    "\n",
    "# Tampilkan rentang frekuensi di sumbu x\n",
    "bin_centers = 0.5 * (bins[:-1] + bins[1:])\n",
    "plt.xticks(bin_centers, ['{:.0f}-{:.0f}'.format(bins[i], bins[i+1]) for i in range(len(bins)-1)])\n",
    "\n",
    "# Tampilkan histogram\n",
    "plt.show()"
   ]
  },
  {
   "cell_type": "code",
   "execution_count": 15,
   "metadata": {},
   "outputs": [
    {
     "data": {
      "image/png": "[encoded data removed]",
      "text/plain": [
       "<Figure size 640x480 with 1 Axes>"
      ]
     },
     "metadata": {},
     "output_type": "display_data"
    }
   ],
   "source": [
    "import pandas as pd\n",
    "import matplotlib.pyplot as plt\n",
    "\n",
    "# Buat DataFrame contoh\n",
    "data = {\n",
    "    'Nilai1': [1, 2, 3, 4, 5, 6, 7, 8, 9, 10],\n",
    "    'Nilai2': [2, 4, 6, 8, 10, 12, 14, 16, 18, 20]\n",
    "}\n",
    "\n",
    "df = pd.DataFrame(data)\n",
    "\n",
    "# Buat scatter plot\n",
    "plt.scatter(df['Nilai1'], df['Nilai2'], color='blue', marker='o')\n",
    "\n",
    "# Tambahkan Label\n",
    "plt.title('Scatter Plot Korelasi Positif')\n",
    "plt.xlabel('Nilai1')\n",
    "plt.ylabel('Nilai2')\n",
    "\n",
    "# Tampilkan plot\n",
    "plt.grid(True)\n",
    "plt.show()\n"
   ]
  },
  {
   "cell_type": "code",
   "execution_count": 16,
   "metadata": {},
   "outputs": [
    {
     "data": {
      "image/png": "[encoded data removed]",
      "text/plain": [
       "<Figure size 640x480 with 1 Axes>"
      ]
     },
     "metadata": {},
     "output_type": "display_data"
    }
   ],
   "source": [
    "import pandas as pd\n",
    "import matplotlib.pyplot as plt\n",
    "\n",
    "# Buat DataFrame contoh\n",
    "data = {\n",
    "    'Nilai1': [1, 2, 3, 4, 5, 6, 7, 8, 9, 10],\n",
    "    'Nilai2': [10, 9, 8, 7, 6, 5, 4, 3, 2, 1]\n",
    "}\n",
    "\n",
    "df = pd.DataFrame(data)\n",
    "\n",
    "# Buat scatter plot\n",
    "plt.scatter(df['Nilai1'], df['Nilai2'], color='red', marker='x')\n",
    "\n",
    "# Tambahkan Label\n",
    "plt.title('Scatter Plot Korelasi Negatif')\n",
    "plt.xlabel('Nilai1')\n",
    "plt.ylabel('Nilai2')\n",
    "\n",
    "# Tampilkan plot\n",
    "plt.grid(True)\n",
    "plt.show()\n"
   ]
  }
 ],
 "metadata": {
  "kernelspec": {
   "display_name": "myenv",
   "language": "python",
   "name": "python3"
  },
  "language_info": {
   "codemirror_mode": {
    "name": "ipython",
    "version": 3
   },
   "file_extension": ".py",
   "mimetype": "text/x-python",
   "name": "python",
   "nbconvert_exporter": "python",
   "pygments_lexer": "ipython3",
   "version": "3.10.13"
  }
 },
 "nbformat": 4,
 "nbformat_minor": 2
}
