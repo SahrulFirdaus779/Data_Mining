{
 "cells": [
  {
   "cell_type": "code",
   "execution_count": 10,
   "metadata": {},
   "outputs": [],
   "source": [
    "import pandas as pd\n",
    "#data 2 dimensi isinya baris dan kolom\n",
    "import numpy as np\n",
    "\n",
    "#object creation"
   ]
  },
  {
   "cell_type": "code",
   "execution_count": 45,
   "metadata": {},
   "outputs": [
    {
     "name": "stdout",
     "output_type": "stream",
     "text": [
      "Object Creation:\n",
      "Series:\n",
      "0    1.0\n",
      "1    3.0\n",
      "2    5.0\n",
      "3    NaN\n",
      "4    6.0\n",
      "5    8.0\n",
      "dtype: float64\n",
      "\n",
      "DataFrame:\n",
      "                   A         B         C         D\n",
      "2023-10-01 -0.355325 -0.698641 -0.221173  1.120214\n",
      "2023-10-02 -0.035521 -0.233937 -1.418471  0.181925\n",
      "2023-10-03 -0.450204  1.173165 -0.494254 -0.068916\n",
      "2023-10-04 -1.038634  0.289632 -1.426825  0.312210\n",
      "2023-10-05  0.264613  0.217212 -0.082374 -0.949293\n",
      "2023-10-06 -1.965982  3.347157  0.673422 -0.445178\n",
      "==================================================\n"
     ]
    }
   ],
   "source": [
    "#Membuat objek\n",
    "s= pd.Series([1, 3, 5, np.nan, 6, 8])\n",
    "\"Membuat objek Series yang berisi nilai [1, 3, 5, np.nan, 6, 8], di mana np.nan digunakan untuk menyatakan missing value (nilai yang hilang).\"\n",
    "\n",
    "dates= pd.date_range('2023-10-01', periods=6)\n",
    "'Membuat rentang tanggal mulai dari 2023-10-01 selama 6 hari berturut-turut.'\n",
    "df= pd.DataFrame(np.random.randn(6,4), index=dates, columns=list('ABCD'))\n",
    "'''\n",
    "Membuat DataFrame dengan 6 baris dan 4 kolom.\n",
    "index diisi dengan rentang tanggal yang telah dibuat sebelumnya (dates), dan kolomnya dinamai 'A', 'B', 'C', dan 'D'.\n",
    "Nilai di dalam DataFrame diisi dengan angka acak dari fungsi np.random.randn(6, 4).'''\n",
    "print('Object Creation:')\n",
    "print('Series:')\n",
    "print(s)\n",
    "print('\\nDataFrame:')\n",
    "print(df)\n",
    "print('='*50)\n",
    "\n",
    "\n",
    "\n"
   ]
  },
  {
   "cell_type": "code",
   "execution_count": 13,
   "metadata": {},
   "outputs": [
    {
     "name": "stdout",
     "output_type": "stream",
     "text": [
      "Viewing Data:\n",
      "First 3 rows:\n",
      "                   A         B         C         D\n",
      "2023-10-01  1.559329  0.929861 -0.479529 -1.350060\n",
      "2023-10-02 -1.790550 -0.091986 -0.740633  1.927363\n",
      "2023-10-03 -0.245851  1.114567  1.011105  0.336479\n",
      "\n",
      "Index and Columns:\n",
      "DatetimeIndex(['2023-10-01', '2023-10-02', '2023-10-03', '2023-10-04',\n",
      "               '2023-10-05', '2023-10-06'],\n",
      "              dtype='datetime64[ns]', freq='D')\n",
      "Index(['A', 'B', 'C', 'D'], dtype='object')\n",
      "========================================\n",
      "0    1.0\n",
      "1    3.0\n",
      "2    5.0\n",
      "3    NaN\n",
      "4    6.0\n",
      "5    8.0\n",
      "dtype: float64\n"
     ]
    }
   ],
   "source": [
    "#viewing Data\n",
    "print('Viewing Data:') #ngeliat data\n",
    "print('First 3 rows:')\n",
    "print(df.head(3))\n",
    "print('\\nIndex and Columns:')\n",
    "print(df.index)\n",
    "print(df.columns)\n",
    "print('='*40)\n",
    "print(s)\n"
   ]
  },
  {
   "cell_type": "code",
   "execution_count": 15,
   "metadata": {},
   "outputs": [
    {
     "name": "stdout",
     "output_type": "stream",
     "text": [
      "Selection:\n",
      "Selecting a column (A):\n",
      "2023-10-01    1.559329\n",
      "2023-10-02   -1.790550\n",
      "2023-10-03   -0.245851\n",
      "2023-10-04    1.677561\n",
      "2023-10-05    1.422491\n",
      "2023-10-06   -1.209913\n",
      "Freq: D, Name: A, dtype: float64\n",
      "\n",
      "Selecting by label (row 0):\n",
      "A    1.559329\n",
      "B    0.929861\n",
      "C   -0.479529\n",
      "D   -1.350060\n",
      "Name: 2023-10-01 00:00:00, dtype: float64\n",
      "\n",
      "Selecting a subset of rows and columns:\n",
      "                   A         B\n",
      "2023-10-02 -1.790550 -0.091986\n",
      "2023-10-03 -0.245851  1.114567\n",
      "========================================\n"
     ]
    }
   ],
   "source": [
    "#Selection\n",
    "print('Selection:')\n",
    "print('Selecting a column (A):')\n",
    "print(df['A'])\n",
    "print('\\nSelecting by label (row 0):')\n",
    "print(df.loc[dates[0]])\n",
    "print('\\nSelecting a subset of rows and columns:')\n",
    "print(df.loc[dates[1:3],['A','B']])\n",
    "print('='*40)\n"
   ]
  },
  {
   "cell_type": "code",
   "execution_count": 25,
   "metadata": {},
   "outputs": [
    {
     "name": "stdout",
     "output_type": "stream",
     "text": [
      "Missing value:\n",
      "Data Frame with Missing values:\n",
      "                   A         B         C         D    E\n",
      "2023-10-01  1.559329  0.929861 -0.479529 -1.350060  1.0\n",
      "2023-10-02 -1.790550 -0.091986 -0.740633  1.927363  1.0\n",
      "2023-10-03 -0.245851  1.114567  1.011105  0.336479  NaN\n",
      "2023-10-04  1.677561 -0.589736  0.207569  1.272960  NaN\n",
      "\n",
      "Dropping rows with missing values:\n",
      "                   A         B         C         D    E\n",
      "2023-10-01  1.559329  0.929861 -0.479529 -1.350060  1.0\n",
      "2023-10-02 -1.790550 -0.091986 -0.740633  1.927363  1.0\n",
      "\n",
      "Filling Missing values:\n",
      "                   A         B         C         D    E\n",
      "2023-10-01  1.559329  0.929861 -0.479529 -1.350060  1.0\n",
      "2023-10-02 -1.790550 -0.091986 -0.740633  1.927363  1.0\n",
      "2023-10-03 -0.245851  1.114567  1.011105  0.336479  0.0\n",
      "2023-10-04  1.677561 -0.589736  0.207569  1.272960  0.0\n",
      "============================================================\n"
     ]
    }
   ],
   "source": [
    "#missing Data\n",
    "df1 = df.reindex(index=dates[0:4], columns=list(df.columns) + ['E'])\n",
    "df1.loc[dates[0]:dates[1], 'E'] = 1\n",
    "\n",
    "print('Missing value:')\n",
    "print('Data Frame with Missing values:')\n",
    "print(df1)\n",
    "print('\\nDropping rows with missing values:')\n",
    "print(df1.dropna())\n",
    "print('\\nFilling Missing values:')\n",
    "print(df1.fillna(value=0))\n",
    "print('='*60)"
   ]
  },
  {
   "cell_type": "code",
   "execution_count": 27,
   "metadata": {},
   "outputs": [
    {
     "name": "stdout",
     "output_type": "stream",
     "text": [
      "Oprations:\n",
      "Mean of each column:\n",
      "A    0.235511\n",
      "B    0.484184\n",
      "C   -0.524525\n",
      "D    0.058964\n",
      "dtype: float64\n",
      "\n",
      "Sum of each Row:\n",
      "2023-10-01    0.659601\n",
      "2023-10-02   -0.695806\n",
      "2023-10-03    2.216300\n",
      "2023-10-04    2.568354\n",
      "2023-10-05    0.590799\n",
      "2023-10-06   -3.814440\n",
      "Freq: D, dtype: float64\n",
      "========================================\n"
     ]
    }
   ],
   "source": [
    "#oprations\n",
    "print('Oprations:')\n",
    "print('Mean of each column:')\n",
    "print(df.mean())\n",
    "print('\\nSum of each Row:')\n",
    "print(df.sum(axis=1))\n",
    "print('='*40)"
   ]
  },
  {
   "cell_type": "code",
   "execution_count": 30,
   "metadata": {},
   "outputs": [
    {
     "name": "stdout",
     "output_type": "stream",
     "text": [
      "Merge:\n",
      "Merged DataFrame:\n",
      "  key   A   B   C   D\n",
      "0  K0  A0  B0  C0  D0\n",
      "1  K1  A1  B1  C1  D1\n",
      "2  K2  A2  B2  C2  D2\n",
      "3  K3  A3  B3  C3  D3\n",
      "========================================\n"
     ]
    }
   ],
   "source": [
    "#Merge\n",
    "left=pd.DataFrame({'key': ['K0','K1','K2','K3'], 'A':['A0','A1','A2','A3'],\n",
    "                   'B':['B0','B1','B2','B3'],})\n",
    "right=pd.DataFrame({'key': ['K0','K1','K2','K3'], 'C':['C0','C1','C2','C3'],\n",
    "                   'D':['D0','D1','D2','D3'],})\n",
    "merged_df= pd.merge(left,right, on='key')\n",
    "\n",
    "print('Merge:')\n",
    "print('Merged DataFrame:')\n",
    "print(merged_df)\n",
    "print('='*40)\n"
   ]
  },
  {
   "cell_type": "code",
   "execution_count": 32,
   "metadata": {},
   "outputs": [
    {
     "name": "stdout",
     "output_type": "stream",
     "text": [
      "Grouping:\n",
      "Grouped DataFrame:\n",
      "                  B         C         D\n",
      "A                                      \n",
      "-1.790550 -0.091986 -0.740633  1.927363\n",
      "-1.209913  0.337729 -2.125801 -0.816455\n",
      "-0.245851  1.114567  1.011105  0.336479\n",
      " 1.422491  1.204668 -1.019859 -1.016502\n",
      " 1.559329  0.929861 -0.479529 -1.350060\n",
      " 1.677561 -0.589736  0.207569  1.272960\n",
      "========================================\n"
     ]
    }
   ],
   "source": [
    "#Grouping\n",
    "grouped =df.groupby('A').sum()\n",
    "print('Grouping:')\n",
    "print('Grouped DataFrame:')\n",
    "print(grouped)\n",
    "print('='*40)"
   ]
  },
  {
   "cell_type": "code",
   "execution_count": 34,
   "metadata": {},
   "outputs": [
    {
     "name": "stdout",
     "output_type": "stream",
     "text": [
      "Reshaping:\n",
      "Stacked DataFrame:\n",
      "2023-10-01  A    1.559329\n",
      "            B    0.929861\n",
      "            C   -0.479529\n",
      "            D   -1.350060\n",
      "2023-10-02  A   -1.790550\n",
      "            B   -0.091986\n",
      "            C   -0.740633\n",
      "            D    1.927363\n",
      "2023-10-03  A   -0.245851\n",
      "            B    1.114567\n",
      "            C    1.011105\n",
      "            D    0.336479\n",
      "2023-10-04  A    1.677561\n",
      "            B   -0.589736\n",
      "            C    0.207569\n",
      "            D    1.272960\n",
      "2023-10-05  A    1.422491\n",
      "            B    1.204668\n",
      "            C   -1.019859\n",
      "            D   -1.016502\n",
      "2023-10-06  A   -1.209913\n",
      "            B    0.337729\n",
      "            C   -2.125801\n",
      "            D   -0.816455\n",
      "dtype: float64\n",
      "\n",
      "Unstacked DataFrame:\n",
      "                   A         B         C         D\n",
      "2023-10-01  1.559329  0.929861 -0.479529 -1.350060\n",
      "2023-10-02 -1.790550 -0.091986 -0.740633  1.927363\n",
      "2023-10-03 -0.245851  1.114567  1.011105  0.336479\n",
      "2023-10-04  1.677561 -0.589736  0.207569  1.272960\n",
      "2023-10-05  1.422491  1.204668 -1.019859 -1.016502\n",
      "2023-10-06 -1.209913  0.337729 -2.125801 -0.816455\n",
      "========================================\n"
     ]
    }
   ],
   "source": [
    "#reshaping\n",
    "stacked=df.stack()\n",
    "unstacked =stacked.unstack()\n",
    "\n",
    "print('Reshaping:')\n",
    "print('Stacked DataFrame:')\n",
    "print(stacked)\n",
    "print('\\nUnstacked DataFrame:')\n",
    "print(unstacked)\n",
    "print('='*40)\n"
   ]
  },
  {
   "cell_type": "code",
   "execution_count": 37,
   "metadata": {},
   "outputs": [
    {
     "name": "stdout",
     "output_type": "stream",
     "text": [
      "Time Series:\n",
      "2023-01-01    1.455645\n",
      "2023-01-02    0.427679\n",
      "2023-01-03    0.601034\n",
      "2023-01-04   -0.240821\n",
      "2023-01-05   -0.535645\n",
      "Freq: D, dtype: float64\n",
      "\n",
      "Cumulative Sum:\n",
      "2023-01-01    1.455645\n",
      "2023-01-02    1.883324\n",
      "2023-01-03    2.484358\n",
      "2023-01-04    2.243538\n",
      "2023-01-05    1.707892\n",
      "Freq: D, dtype: float64\n",
      "========================================\n"
     ]
    }
   ],
   "source": [
    "#dataTime Series\n",
    "ts =pd.Series(np.random.randn(1000), index=pd.date_range('2023-01-01', periods=1000))\n",
    "cumulative_sum =ts.cumsum()\n",
    "\n",
    "print(\"Time Series:\")\n",
    "print(ts.head())\n",
    "print('\\nCumulative Sum:')\n",
    "print(cumulative_sum.head())\n",
    "print('='*40)"
   ]
  },
  {
   "cell_type": "code",
   "execution_count": 41,
   "metadata": {},
   "outputs": [
    {
     "name": "stdout",
     "output_type": "stream",
     "text": [
      "categories:\n",
      "Original Categorical Series:\n",
      "0     cat\n",
      "1     dog\n",
      "2    Bird\n",
      "3     cat\n",
      "4     dog\n",
      "dtype: category\n",
      "Categories (3, object): ['Bird', 'cat', 'dog']\n",
      "\n",
      "New Categorical Series with updates categories:\n",
      "0    NaN\n",
      "1    NaN\n",
      "2    NaN\n",
      "3    NaN\n",
      "4    NaN\n",
      "dtype: category\n",
      "Categories (3, object): ['Category 1', 'Category 2', 'Category 3']\n"
     ]
    }
   ],
   "source": [
    "#Data Categoricals\n",
    "\n",
    "import pandas as pd\n",
    "#create a categorical Series\n",
    "s=pd.Series(['cat','dog','Bird','cat','dog'], dtype='category')\n",
    "\n",
    "#Define new Categories\n",
    "new_categories= ['Category 1', 'Category 2', 'Category 3']\n",
    "#create a new categorical series with the new categories\n",
    "\n",
    "s_new= s.cat.set_categories(new_categories)\n",
    "print(\"categories:\")\n",
    "print(\"Original Categorical Series:\")\n",
    "print(s)\n",
    "print(\"\\nNew Categorical Series with updates categories:\")\n",
    "print(s_new)"
   ]
  },
  {
   "cell_type": "code",
   "execution_count": 43,
   "metadata": {},
   "outputs": [
    {
     "data": {
      "image/png": "[encoded data removed]",
      "text/plain": [
       "<Figure size 640x480 with 1 Axes>"
      ]
     },
     "metadata": {},
     "output_type": "display_data"
    },
    {
     "name": "stdout",
     "output_type": "stream",
     "text": [
      "Plotting:\n",
      "========================================\n"
     ]
    }
   ],
   "source": [
    "#plotting\n",
    "import matplotlib.pyplot as plt\n",
    "#ploting \n",
    "df.plot()\n",
    "plt.show()\n",
    "\n",
    "print(\"Plotting:\")\n",
    "print(\"=\"*40)"
   ]
  },
  {
   "cell_type": "code",
   "execution_count": 47,
   "metadata": {},
   "outputs": [
    {
     "name": "stdout",
     "output_type": "stream",
     "text": [
      "Importing and Exporting Data:\n",
      "Exported dataFrame to CSV:\n",
      "                   A         B         C         D\n",
      "2023-10-01 -0.355325 -0.698641 -0.221173  1.120214\n",
      "2023-10-02 -0.035521 -0.233937 -1.418471  0.181925\n",
      "2023-10-03 -0.450204  1.173165 -0.494254 -0.068916\n",
      "2023-10-04 -1.038634  0.289632 -1.426825  0.312210\n",
      "2023-10-05  0.264613  0.217212 -0.082374 -0.949293\n",
      "2023-10-06 -1.965982  3.347157  0.673422 -0.445178\n",
      "\n",
      "Imported DataFrame from CSV:\n",
      "    SUBJECT Stim1 Stim2  Response\n",
      "0         1     B     D         5\n",
      "1         1     A     B         1\n",
      "2         1     B     C         7\n",
      "3         2     A     C         3\n",
      "4         2     A     B         2\n",
      "5         2     B     C         6\n",
      "6         3     B     C         6\n",
      "7         3     C     D         5\n",
      "8         3     A     B         3\n",
      "9         4     B     D         2\n",
      "10        4     A     D         2\n",
      "11        4     B     C         5\n",
      "12        5     C     D         6\n",
      "13        5     A     D         1\n",
      "14        5     A     B         2\n",
      "15        6     A     B         2\n",
      "16        6     A     D         2\n",
      "17        6     B     D         3\n",
      "18        7     A     D         1\n",
      "19        7     B     D         5\n",
      "20        7     A     B         1\n",
      "21        8     C     D         5\n",
      "22        8     A     C         4\n",
      "23        8     A     B         3\n",
      "24        9     A     D         2\n",
      "25        9     A     B         1\n",
      "26        9     C     D         5\n",
      "27       10     A     C         5\n",
      "28       10     B     C         7\n",
      "29       10     A     B         2\n",
      "========================================\n"
     ]
    }
   ],
   "source": [
    "#importing and exporting data\n",
    "imported_df = pd.read_csv('sample_data.csv')\n",
    "print(\"Importing and Exporting Data:\")\n",
    "print(\"Exported dataFrame to CSV:\")\n",
    "print(df)\n",
    "print('\\nImported DataFrame from CSV:')\n",
    "print(imported_df)\n",
    "print(\"=\"*40)\n",
    "df.to_csv('sampel_data2.csv')"
   ]
  }
 ],
 "metadata": {
  "kernelspec": {
   "display_name": "myenv",
   "language": "python",
   "name": "python3"
  },
  "language_info": {
   "codemirror_mode": {
    "name": "ipython",
    "version": 3
   },
   "file_extension": ".py",
   "mimetype": "text/x-python",
   "name": "python",
   "nbconvert_exporter": "python",
   "pygments_lexer": "ipython3",
   "version": "3.10.13"
  }
 },
 "nbformat": 4,
 "nbformat_minor": 2
}
