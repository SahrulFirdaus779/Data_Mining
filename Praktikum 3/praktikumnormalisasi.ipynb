{
 "cells": [
  {
   "cell_type": "markdown",
   "metadata": {},
   "source": [
    "Min-Max Normalization"
   ]
  },
  {
   "cell_type": "code",
   "execution_count": 6,
   "metadata": {},
   "outputs": [
    {
     "name": "stdout",
     "output_type": "stream",
     "text": [
      "Data Asli: \n",
      "[[2. 5.]\n",
      " [1. 4.]\n",
      " [3. 6.]]\n",
      "\n",
      "Data setelah Min-Max Scaling:\n",
      "[[0.5 0.5]\n",
      " [0.  0. ]\n",
      " [1.  1. ]]\n"
     ]
    }
   ],
   "source": [
    "import numpy as np\n",
    "from sklearn.preprocessing import MinMaxScaler\n",
    "\n",
    "# Data Contoh (Ganti dengan data anda)\n",
    "data= np.array([[2.0,5.0],\n",
    "              [1.0,4.0],\n",
    "              [3.0,6.0]])\n",
    "# Inisialisasi objek MinMaxScaler\n",
    "# Rumusnya = x-Xmin / Xmax-Xmin\n",
    "scaler= MinMaxScaler()\n",
    "\n",
    "# Fit and Transformasi data menggunakan Min-Max Scaling\n",
    "scaled_data=scaler.fit_transform(data)\n",
    "\n",
    "print(\"Data Asli: \")\n",
    "print(data)\n",
    "\n",
    "print(\"\\nData setelah Min-Max Scaling:\")\n",
    "print(scaled_data)"
   ]
  },
  {
   "cell_type": "markdown",
   "metadata": {},
   "source": [
    "Z-Score Transformation"
   ]
  },
  {
   "cell_type": "code",
   "execution_count": 8,
   "metadata": {},
   "outputs": [
    {
     "name": "stdout",
     "output_type": "stream",
     "text": [
      "Data Asli: \n",
      "[[2. 5.]\n",
      " [1. 4.]\n",
      " [3. 6.]]\n",
      "\n",
      "Data setelah Z-Score Transformation:\n",
      "[[ 0.          0.        ]\n",
      " [-1.22474487 -1.22474487]\n",
      " [ 1.22474487  1.22474487]]\n"
     ]
    }
   ],
   "source": [
    "import numpy as np\n",
    "from sklearn.preprocessing import StandardScaler\n",
    "\n",
    "# Data Contoh (Ganti dengan data anda)\n",
    "data= np.array([[2.0,5.0],\n",
    "                [1.0,4.0],\n",
    "                [3.0,6.0]])\n",
    "# Inisialisasi objek StandarScaler\n",
    "#Rumusnya: Z= X - mean / Standar Deviasi\n",
    "scaler= StandardScaler()\n",
    "\n",
    "# Fit and Transformasi data menggunakan Z-Score Transformation\n",
    "z_score_data = scaler.fit_transform(data)\n",
    "\n",
    "print(\"Data Asli: \")\n",
    "print(data)\n",
    "\n",
    "print(\"\\nData setelah Z-Score Transformation:\")\n",
    "print(z_score_data)"
   ]
  },
  {
   "cell_type": "markdown",
   "metadata": {},
   "source": [
    "Scaling Decimal"
   ]
  },
  {
   "cell_type": "code",
   "execution_count": 11,
   "metadata": {},
   "outputs": [
    {
     "name": "stdout",
     "output_type": "stream",
     "text": [
      "Data Asli: \n",
      "[200 300 400 500 600]\n",
      "\n",
      " Data setelah Decimal Scaling: \n",
      "[0.2 0.3 0.4 0.5 0.6]\n"
     ]
    }
   ],
   "source": [
    "import numpy as np\n",
    "\n",
    "#Data Contoh\n",
    "data = np.array([200,300,400,500,600])\n",
    "\n",
    "#Menentukan faktor penggeseran(scaling factor),\n",
    "#misalnya 1000 untuk mengubah ke rentang 0-1\n",
    "\n",
    "scaling_factor=1000\n",
    "\n",
    "#Melakukan transformasi Decimal Scaling\n",
    "#ini inputan rumusnya\n",
    "scaled_data= data/scaling_factor\n",
    "\n",
    "print(\"Data Asli: \")\n",
    "print(data)\n",
    "\n",
    "print(\"\\n Data setelah Decimal Scaling: \")\n",
    "print(scaled_data)"
   ]
  }
 ],
 "metadata": {
  "kernelspec": {
   "display_name": "myenv",
   "language": "python",
   "name": "python3"
  },
  "language_info": {
   "codemirror_mode": {
    "name": "ipython",
    "version": 3
   },
   "file_extension": ".py",
   "mimetype": "text/x-python",
   "name": "python",
   "nbconvert_exporter": "python",
   "pygments_lexer": "ipython3",
   "version": "3.10.13"
  }
 },
 "nbformat": 4,
 "nbformat_minor": 2
}
